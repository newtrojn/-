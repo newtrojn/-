{
 "cells": [
  {
   "cell_type": "markdown",
   "id": "3df9b1e9",
   "metadata": {
    "pycharm": {
     "name": "#%% md\n"
    }
   },
   "source": [
    "# 1. Importing Library"
   ]
  },
  {
   "cell_type": "code",
   "execution_count": 1,
   "outputs": [],
   "source": [
    "import sys\n",
    "import pandas as pd\n",
    "import numpy as np\n",
    "import matplotlib.pyplot as plt\n",
    "\n",
    "from sklearn.preprocessing import StandardScaler\n",
    "from sklearn.model_selection import train_test_split\n",
    "from sklearn.neighbors import KNeighborsClassifier\n",
    "from sklearn.metrics import confusion_matrix, accuracy_score"
   ],
   "metadata": {
    "collapsed": false,
    "pycharm": {
     "name": "#%%\n"
    }
   }
  },
  {
   "cell_type": "markdown",
   "source": [
    "# 2. Configuration"
   ],
   "metadata": {
    "collapsed": false
   }
  },
  {
   "cell_type": "code",
   "execution_count": 2,
   "outputs": [],
   "source": [
    "class CFG:\n",
    "  data_path = './data/df.csv'\n",
    "  bins= [0,31,61,121,201,500]\n",
    "  neighbors = 3"
   ],
   "metadata": {
    "collapsed": false,
    "pycharm": {
     "name": "#%%\n"
    }
   }
  },
  {
   "cell_type": "markdown",
   "source": [
    "# 3. Data Preprocessing"
   ],
   "metadata": {
    "collapsed": false,
    "pycharm": {
     "name": "#%% md\n"
    }
   }
  },
  {
   "cell_type": "code",
   "execution_count": 3,
   "outputs": [],
   "source": [
    "df = pd.read_csv(CFG.data_path, header=0, dtype={'date_ori': str})"
   ],
   "metadata": {
    "collapsed": false,
    "pycharm": {
     "name": "#%%\n"
    }
   }
  },
  {
   "cell_type": "code",
   "execution_count": 4,
   "id": "4f80ddab",
   "metadata": {},
   "outputs": [
    {
     "data": {
      "text/plain": "             name  volumn  count  year  month category1 category2 category3  \\\n0          1011부대    10.0    1.0  2013      1      공공기관       군부대       병무청   \n1           1포병여단     5.0    1.0  2013      5      공공기관       군부대       병무청   \n2          2003부대    20.0    1.0  2014     12      공공기관       군부대       병무청   \n3          2003부대     5.0    1.0  2019      8      공공기관       군부대       병무청   \n4       21세기엔지니어링     3.0    1.0  2014      2      민간기업    건축및부동산        건축   \n...           ...     ...    ...   ...    ...       ...       ...       ...   \n4856           효승     3.0    1.5  2012      6      정보통신      정보통신      정보통신   \n4857  후지쯔코리아테크놀로지     5.0    3.0  2011      9      민간기업    건축및부동산        시공   \n4858  후지쯔코리아테크놀로지     3.0    3.0  2011      9      민간기업    건축및부동산        시공   \n4859        힐네트윅스    10.0    3.5  2013      8      정보통신      정보통신      IT기업   \n4860        힐네트윅스     5.0    3.5  2013      8      정보통신      정보통신      IT기업   \n\n     item1 item2 kind  \n0       장비   UPS    s  \n1       장비   UPS    s  \n2       장비   UPS    s  \n3       장비   UPS    s  \n4       장비   UPS    s  \n...    ...   ...  ...  \n4856    장비   UPS    s  \n4857    장비   UPS    s  \n4858    장비   UPS    s  \n4859    장비   UPS    s  \n4860    장비   UPS    s  \n\n[4861 rows x 11 columns]",
      "text/html": "<div>\n<style scoped>\n    .dataframe tbody tr th:only-of-type {\n        vertical-align: middle;\n    }\n\n    .dataframe tbody tr th {\n        vertical-align: top;\n    }\n\n    .dataframe thead th {\n        text-align: right;\n    }\n</style>\n<table border=\"1\" class=\"dataframe\">\n  <thead>\n    <tr style=\"text-align: right;\">\n      <th></th>\n      <th>name</th>\n      <th>volumn</th>\n      <th>count</th>\n      <th>year</th>\n      <th>month</th>\n      <th>category1</th>\n      <th>category2</th>\n      <th>category3</th>\n      <th>item1</th>\n      <th>item2</th>\n      <th>kind</th>\n    </tr>\n  </thead>\n  <tbody>\n    <tr>\n      <th>0</th>\n      <td>1011부대</td>\n      <td>10.0</td>\n      <td>1.0</td>\n      <td>2013</td>\n      <td>1</td>\n      <td>공공기관</td>\n      <td>군부대</td>\n      <td>병무청</td>\n      <td>장비</td>\n      <td>UPS</td>\n      <td>s</td>\n    </tr>\n    <tr>\n      <th>1</th>\n      <td>1포병여단</td>\n      <td>5.0</td>\n      <td>1.0</td>\n      <td>2013</td>\n      <td>5</td>\n      <td>공공기관</td>\n      <td>군부대</td>\n      <td>병무청</td>\n      <td>장비</td>\n      <td>UPS</td>\n      <td>s</td>\n    </tr>\n    <tr>\n      <th>2</th>\n      <td>2003부대</td>\n      <td>20.0</td>\n      <td>1.0</td>\n      <td>2014</td>\n      <td>12</td>\n      <td>공공기관</td>\n      <td>군부대</td>\n      <td>병무청</td>\n      <td>장비</td>\n      <td>UPS</td>\n      <td>s</td>\n    </tr>\n    <tr>\n      <th>3</th>\n      <td>2003부대</td>\n      <td>5.0</td>\n      <td>1.0</td>\n      <td>2019</td>\n      <td>8</td>\n      <td>공공기관</td>\n      <td>군부대</td>\n      <td>병무청</td>\n      <td>장비</td>\n      <td>UPS</td>\n      <td>s</td>\n    </tr>\n    <tr>\n      <th>4</th>\n      <td>21세기엔지니어링</td>\n      <td>3.0</td>\n      <td>1.0</td>\n      <td>2014</td>\n      <td>2</td>\n      <td>민간기업</td>\n      <td>건축및부동산</td>\n      <td>건축</td>\n      <td>장비</td>\n      <td>UPS</td>\n      <td>s</td>\n    </tr>\n    <tr>\n      <th>...</th>\n      <td>...</td>\n      <td>...</td>\n      <td>...</td>\n      <td>...</td>\n      <td>...</td>\n      <td>...</td>\n      <td>...</td>\n      <td>...</td>\n      <td>...</td>\n      <td>...</td>\n      <td>...</td>\n    </tr>\n    <tr>\n      <th>4856</th>\n      <td>효승</td>\n      <td>3.0</td>\n      <td>1.5</td>\n      <td>2012</td>\n      <td>6</td>\n      <td>정보통신</td>\n      <td>정보통신</td>\n      <td>정보통신</td>\n      <td>장비</td>\n      <td>UPS</td>\n      <td>s</td>\n    </tr>\n    <tr>\n      <th>4857</th>\n      <td>후지쯔코리아테크놀로지</td>\n      <td>5.0</td>\n      <td>3.0</td>\n      <td>2011</td>\n      <td>9</td>\n      <td>민간기업</td>\n      <td>건축및부동산</td>\n      <td>시공</td>\n      <td>장비</td>\n      <td>UPS</td>\n      <td>s</td>\n    </tr>\n    <tr>\n      <th>4858</th>\n      <td>후지쯔코리아테크놀로지</td>\n      <td>3.0</td>\n      <td>3.0</td>\n      <td>2011</td>\n      <td>9</td>\n      <td>민간기업</td>\n      <td>건축및부동산</td>\n      <td>시공</td>\n      <td>장비</td>\n      <td>UPS</td>\n      <td>s</td>\n    </tr>\n    <tr>\n      <th>4859</th>\n      <td>힐네트윅스</td>\n      <td>10.0</td>\n      <td>3.5</td>\n      <td>2013</td>\n      <td>8</td>\n      <td>정보통신</td>\n      <td>정보통신</td>\n      <td>IT기업</td>\n      <td>장비</td>\n      <td>UPS</td>\n      <td>s</td>\n    </tr>\n    <tr>\n      <th>4860</th>\n      <td>힐네트윅스</td>\n      <td>5.0</td>\n      <td>3.5</td>\n      <td>2013</td>\n      <td>8</td>\n      <td>정보통신</td>\n      <td>정보통신</td>\n      <td>IT기업</td>\n      <td>장비</td>\n      <td>UPS</td>\n      <td>s</td>\n    </tr>\n  </tbody>\n</table>\n<p>4861 rows × 11 columns</p>\n</div>"
     },
     "execution_count": 4,
     "metadata": {},
     "output_type": "execute_result"
    }
   ],
   "source": [
    "df = df[['name','volumn','count','year','month','category1','category2','category3','item1','item2','kind']]\n",
    "df = df.loc[df['kind'] == 's'] #수주데이터만 선택\n",
    "df = df.loc[df['item2'] == 'UPS'] #UPS만 선택\n",
    "df = df.reset_index(drop=True)\n",
    "df"
   ]
  },
  {
   "cell_type": "code",
   "execution_count": 5,
   "id": "49f42ef2",
   "metadata": {},
   "outputs": [
    {
     "data": {
      "text/plain": "<Figure size 432x288 with 1 Axes>",
      "image/png": "[encoded data removed]"
     },
     "metadata": {
      "needs_background": "light"
     },
     "output_type": "display_data"
    }
   ],
   "source": [
    "# volumn을 카테고리화 - 성신전기공업의 표 이용\n",
    "df['vol_category']=np.digitize(df['volumn'], CFG.bins)\n",
    "plt.hist(df['vol_category'])\n",
    "plt.show()"
   ]
  },
  {
   "cell_type": "code",
   "execution_count": 6,
   "id": "e4d1a644",
   "metadata": {},
   "outputs": [],
   "source": [
    "# 이상치 제거\n",
    "df_before = df.copy()\n",
    "df = df[df['count']<50]\n",
    "df = df.reset_index(drop=True)"
   ]
  },
  {
   "cell_type": "code",
   "execution_count": 7,
   "outputs": [
    {
     "data": {
      "text/plain": "<Figure size 432x288 with 1 Axes>",
      "image/png": "[encoded data removed]"
     },
     "metadata": {
      "needs_background": "light"
     },
     "output_type": "display_data"
    }
   ],
   "source": [
    "#전\n",
    "plt.xlim([0,150])\n",
    "plt.scatter(df_before['count'],df_before['month'])\n",
    "plt.show()"
   ],
   "metadata": {
    "collapsed": false,
    "pycharm": {
     "name": "#%%\n"
    }
   }
  },
  {
   "cell_type": "code",
   "execution_count": 8,
   "outputs": [
    {
     "data": {
      "text/plain": "<Figure size 432x288 with 1 Axes>",
      "image/png": "[encoded data removed]"
     },
     "metadata": {
      "needs_background": "light"
     },
     "output_type": "display_data"
    }
   ],
   "source": [
    "#후\n",
    "plt.xlim([0,150])\n",
    "plt.scatter(df['count'],df['month'])\n",
    "plt.show()"
   ],
   "metadata": {
    "collapsed": false,
    "pycharm": {
     "name": "#%%\n"
    }
   }
  },
  {
   "cell_type": "code",
   "execution_count": 9,
   "outputs": [
    {
     "name": "stdout",
     "output_type": "stream",
     "text": [
      "(4861, 12)\n",
      "(4855, 12)\n"
     ]
    }
   ],
   "source": [
    "print(df_before.shape)\n",
    "print(df.shape)"
   ],
   "metadata": {
    "collapsed": false,
    "pycharm": {
     "name": "#%%\n"
    }
   }
  },
  {
   "cell_type": "code",
   "execution_count": 10,
   "outputs": [],
   "source": [
    "# count 컬럼 정규화\n",
    "count_scaler = StandardScaler()\n",
    "count_scaler.fit(df['count'].values.reshape(-1,1))\n",
    "count_normal = count_scaler.transform(df['count'].values.reshape(-1,1))\n",
    "df['count_normal']=count_normal"
   ],
   "metadata": {
    "collapsed": false,
    "pycharm": {
     "name": "#%%\n"
    }
   }
  },
  {
   "cell_type": "code",
   "execution_count": 11,
   "id": "c21bc4aa",
   "metadata": {},
   "outputs": [],
   "source": [
    "# category1에 대한 one-hot-encoding\n",
    "category1_dummy=pd.get_dummies(df['category1'])\n",
    "df = pd.concat([df,category1_dummy],axis=1)"
   ]
  },
  {
   "cell_type": "code",
   "execution_count": 12,
   "outputs": [
    {
     "data": {
      "text/plain": "             name  volumn  count  year  month category1 category2 category3  \\\n0          1011부대    10.0    1.0  2013      1      공공기관       군부대       병무청   \n1           1포병여단     5.0    1.0  2013      5      공공기관       군부대       병무청   \n2          2003부대    20.0    1.0  2014     12      공공기관       군부대       병무청   \n3          2003부대     5.0    1.0  2019      8      공공기관       군부대       병무청   \n4       21세기엔지니어링     3.0    1.0  2014      2      민간기업    건축및부동산        건축   \n...           ...     ...    ...   ...    ...       ...       ...       ...   \n4850           효승     3.0    1.5  2012      6      정보통신      정보통신      정보통신   \n4851  후지쯔코리아테크놀로지     5.0    3.0  2011      9      민간기업    건축및부동산        시공   \n4852  후지쯔코리아테크놀로지     3.0    3.0  2011      9      민간기업    건축및부동산        시공   \n4853        힐네트윅스    10.0    3.5  2013      8      정보통신      정보통신      IT기업   \n4854        힐네트윅스     5.0    3.5  2013      8      정보통신      정보통신      IT기업   \n\n     item1 item2 kind  vol_category  count_normal  공공기관  교육기관  금융기관  대리점  \\\n0       장비   UPS    s             1     -0.282345     1     0     0    0   \n1       장비   UPS    s             1     -0.282345     1     0     0    0   \n2       장비   UPS    s             1     -0.282345     1     0     0    0   \n3       장비   UPS    s             1     -0.282345     1     0     0    0   \n4       장비   UPS    s             1     -0.282345     0     0     0    0   \n...    ...   ...  ...           ...           ...   ...   ...   ...  ...   \n4850    장비   UPS    s             1     -0.087321     0     0     0    0   \n4851    장비   UPS    s             1      0.497751     0     0     0    0   \n4852    장비   UPS    s             1      0.497751     0     0     0    0   \n4853    장비   UPS    s             1      0.692775     0     0     0    0   \n4854    장비   UPS    s             1      0.692775     0     0     0    0   \n\n      민간기업  의료기관  정보통신  \n0        0     0     0  \n1        0     0     0  \n2        0     0     0  \n3        0     0     0  \n4        1     0     0  \n...    ...   ...   ...  \n4850     0     0     1  \n4851     1     0     0  \n4852     1     0     0  \n4853     0     0     1  \n4854     0     0     1  \n\n[4855 rows x 20 columns]",
      "text/html": "<div>\n<style scoped>\n    .dataframe tbody tr th:only-of-type {\n        vertical-align: middle;\n    }\n\n    .dataframe tbody tr th {\n        vertical-align: top;\n    }\n\n    .dataframe thead th {\n        text-align: right;\n    }\n</style>\n<table border=\"1\" class=\"dataframe\">\n  <thead>\n    <tr style=\"text-align: right;\">\n      <th></th>\n      <th>name</th>\n      <th>volumn</th>\n      <th>count</th>\n      <th>year</th>\n      <th>month</th>\n      <th>category1</th>\n      <th>category2</th>\n      <th>category3</th>\n      <th>item1</th>\n      <th>item2</th>\n      <th>kind</th>\n      <th>vol_category</th>\n      <th>count_normal</th>\n      <th>공공기관</th>\n      <th>교육기관</th>\n      <th>금융기관</th>\n      <th>대리점</th>\n      <th>민간기업</th>\n      <th>의료기관</th>\n      <th>정보통신</th>\n    </tr>\n  </thead>\n  <tbody>\n    <tr>\n      <th>0</th>\n      <td>1011부대</td>\n      <td>10.0</td>\n      <td>1.0</td>\n      <td>2013</td>\n      <td>1</td>\n      <td>공공기관</td>\n      <td>군부대</td>\n      <td>병무청</td>\n      <td>장비</td>\n      <td>UPS</td>\n      <td>s</td>\n      <td>1</td>\n      <td>-0.282345</td>\n      <td>1</td>\n      <td>0</td>\n      <td>0</td>\n      <td>0</td>\n      <td>0</td>\n      <td>0</td>\n      <td>0</td>\n    </tr>\n    <tr>\n      <th>1</th>\n      <td>1포병여단</td>\n      <td>5.0</td>\n      <td>1.0</td>\n      <td>2013</td>\n      <td>5</td>\n      <td>공공기관</td>\n      <td>군부대</td>\n      <td>병무청</td>\n      <td>장비</td>\n      <td>UPS</td>\n      <td>s</td>\n      <td>1</td>\n      <td>-0.282345</td>\n      <td>1</td>\n      <td>0</td>\n      <td>0</td>\n      <td>0</td>\n      <td>0</td>\n      <td>0</td>\n      <td>0</td>\n    </tr>\n    <tr>\n      <th>2</th>\n      <td>2003부대</td>\n      <td>20.0</td>\n      <td>1.0</td>\n      <td>2014</td>\n      <td>12</td>\n      <td>공공기관</td>\n      <td>군부대</td>\n      <td>병무청</td>\n      <td>장비</td>\n      <td>UPS</td>\n      <td>s</td>\n      <td>1</td>\n      <td>-0.282345</td>\n      <td>1</td>\n      <td>0</td>\n      <td>0</td>\n      <td>0</td>\n      <td>0</td>\n      <td>0</td>\n      <td>0</td>\n    </tr>\n    <tr>\n      <th>3</th>\n      <td>2003부대</td>\n      <td>5.0</td>\n      <td>1.0</td>\n      <td>2019</td>\n      <td>8</td>\n      <td>공공기관</td>\n      <td>군부대</td>\n      <td>병무청</td>\n      <td>장비</td>\n      <td>UPS</td>\n      <td>s</td>\n      <td>1</td>\n      <td>-0.282345</td>\n      <td>1</td>\n      <td>0</td>\n      <td>0</td>\n      <td>0</td>\n      <td>0</td>\n      <td>0</td>\n      <td>0</td>\n    </tr>\n    <tr>\n      <th>4</th>\n      <td>21세기엔지니어링</td>\n      <td>3.0</td>\n      <td>1.0</td>\n      <td>2014</td>\n      <td>2</td>\n      <td>민간기업</td>\n      <td>건축및부동산</td>\n      <td>건축</td>\n      <td>장비</td>\n      <td>UPS</td>\n      <td>s</td>\n      <td>1</td>\n      <td>-0.282345</td>\n      <td>0</td>\n      <td>0</td>\n      <td>0</td>\n      <td>0</td>\n      <td>1</td>\n      <td>0</td>\n      <td>0</td>\n    </tr>\n    <tr>\n      <th>...</th>\n      <td>...</td>\n      <td>...</td>\n      <td>...</td>\n      <td>...</td>\n      <td>...</td>\n      <td>...</td>\n      <td>...</td>\n      <td>...</td>\n      <td>...</td>\n      <td>...</td>\n      <td>...</td>\n      <td>...</td>\n      <td>...</td>\n      <td>...</td>\n      <td>...</td>\n      <td>...</td>\n      <td>...</td>\n      <td>...</td>\n      <td>...</td>\n      <td>...</td>\n    </tr>\n    <tr>\n      <th>4850</th>\n      <td>효승</td>\n      <td>3.0</td>\n      <td>1.5</td>\n      <td>2012</td>\n      <td>6</td>\n      <td>정보통신</td>\n      <td>정보통신</td>\n      <td>정보통신</td>\n      <td>장비</td>\n      <td>UPS</td>\n      <td>s</td>\n      <td>1</td>\n      <td>-0.087321</td>\n      <td>0</td>\n      <td>0</td>\n      <td>0</td>\n      <td>0</td>\n      <td>0</td>\n      <td>0</td>\n      <td>1</td>\n    </tr>\n    <tr>\n      <th>4851</th>\n      <td>후지쯔코리아테크놀로지</td>\n      <td>5.0</td>\n      <td>3.0</td>\n      <td>2011</td>\n      <td>9</td>\n      <td>민간기업</td>\n      <td>건축및부동산</td>\n      <td>시공</td>\n      <td>장비</td>\n      <td>UPS</td>\n      <td>s</td>\n      <td>1</td>\n      <td>0.497751</td>\n      <td>0</td>\n      <td>0</td>\n      <td>0</td>\n      <td>0</td>\n      <td>1</td>\n      <td>0</td>\n      <td>0</td>\n    </tr>\n    <tr>\n      <th>4852</th>\n      <td>후지쯔코리아테크놀로지</td>\n      <td>3.0</td>\n      <td>3.0</td>\n      <td>2011</td>\n      <td>9</td>\n      <td>민간기업</td>\n      <td>건축및부동산</td>\n      <td>시공</td>\n      <td>장비</td>\n      <td>UPS</td>\n      <td>s</td>\n      <td>1</td>\n      <td>0.497751</td>\n      <td>0</td>\n      <td>0</td>\n      <td>0</td>\n      <td>0</td>\n      <td>1</td>\n      <td>0</td>\n      <td>0</td>\n    </tr>\n    <tr>\n      <th>4853</th>\n      <td>힐네트윅스</td>\n      <td>10.0</td>\n      <td>3.5</td>\n      <td>2013</td>\n      <td>8</td>\n      <td>정보통신</td>\n      <td>정보통신</td>\n      <td>IT기업</td>\n      <td>장비</td>\n      <td>UPS</td>\n      <td>s</td>\n      <td>1</td>\n      <td>0.692775</td>\n      <td>0</td>\n      <td>0</td>\n      <td>0</td>\n      <td>0</td>\n      <td>0</td>\n      <td>0</td>\n      <td>1</td>\n    </tr>\n    <tr>\n      <th>4854</th>\n      <td>힐네트윅스</td>\n      <td>5.0</td>\n      <td>3.5</td>\n      <td>2013</td>\n      <td>8</td>\n      <td>정보통신</td>\n      <td>정보통신</td>\n      <td>IT기업</td>\n      <td>장비</td>\n      <td>UPS</td>\n      <td>s</td>\n      <td>1</td>\n      <td>0.692775</td>\n      <td>0</td>\n      <td>0</td>\n      <td>0</td>\n      <td>0</td>\n      <td>0</td>\n      <td>0</td>\n      <td>1</td>\n    </tr>\n  </tbody>\n</table>\n<p>4855 rows × 20 columns</p>\n</div>"
     },
     "execution_count": 12,
     "metadata": {},
     "output_type": "execute_result"
    }
   ],
   "source": [
    "df"
   ],
   "metadata": {
    "collapsed": false,
    "pycharm": {
     "name": "#%%\n"
    }
   }
  },
  {
   "cell_type": "markdown",
   "id": "baa557ba",
   "metadata": {},
   "source": [
    "# 4. KNN 분석"
   ]
  },
  {
   "cell_type": "code",
   "execution_count": 13,
   "id": "27e3989c",
   "metadata": {},
   "outputs": [
    {
     "name": "stdout",
     "output_type": "stream",
     "text": [
      "(4855, 9)\n",
      "(4855,)\n"
     ]
    }
   ],
   "source": [
    "x = df.loc[:,['count_normal','month','공공기관','교육기관','금융기관','대리점','민간기업','의료기관','정보통신']]\n",
    "y = df.loc[:,'vol_category']\n",
    "x = x.values.reshape(x.shape[0],x.shape[1])\n",
    "y = y.values.reshape(-1)\n",
    "\n",
    "print(x.shape)\n",
    "print(y.shape)"
   ]
  },
  {
   "cell_type": "code",
   "execution_count": 14,
   "id": "fd1a45ac",
   "metadata": {},
   "outputs": [],
   "source": [
    "#train, test dataset 분리\n",
    "x_train, x_test, y_train, y_test = train_test_split(x, y, test_size=0.2, random_state=4)"
   ]
  },
  {
   "cell_type": "code",
   "execution_count": 15,
   "outputs": [
    {
     "name": "stdout",
     "output_type": "stream",
     "text": [
      "[[742   6   3  19   2   0]\n",
      " [ 88   0   0   2   0   0]\n",
      " [ 58   1   1   2   1   0]\n",
      " [ 27   0   0   0   0   0]\n",
      " [ 10   0   1   0   0   0]\n",
      " [  8   0   0   0   0   0]]\n",
      "0.7651905252317199\n"
     ]
    }
   ],
   "source": [
    "#model\n",
    "classifier = KNeighborsClassifier(n_neighbors = CFG.neighbors)\n",
    "classifier.fit(x_train, y_train)\n",
    "guesses = classifier.predict(x_test)\n",
    "print(confusion_matrix(y_test, guesses))\n",
    "print(accuracy_score(y_test, guesses))"
   ],
   "metadata": {
    "collapsed": false,
    "pycharm": {
     "name": "#%%\n"
    }
   }
  },
  {
   "cell_type": "code",
   "execution_count": 16,
   "outputs": [
    {
     "data": {
      "text/plain": "array([1, 1, 1, 1, 4, 1, 1, 1, 1, 1, 1, 1, 1, 1, 1, 1, 1, 1, 1, 1, 1, 1,\n       1, 1, 1, 1, 1, 1, 1, 1, 1, 1, 1, 1, 1, 1, 1, 1, 1, 1, 1, 1, 1, 1,\n       1, 2, 4, 1, 1, 1, 1, 1, 1, 1, 1, 1, 1, 1, 1, 1, 1, 1, 1, 1, 1, 1,\n       1, 1, 1, 1, 1, 1, 1, 1, 1, 1, 1, 1, 1, 1, 4, 1, 1, 1, 1, 1, 1, 1,\n       1, 1, 1, 1, 1, 1, 1, 1, 1, 1, 1, 1, 1, 1, 1, 1, 1, 1, 1, 1, 1, 1,\n       1, 1, 1, 1, 1, 1, 1, 1, 1, 1, 1, 1, 1, 1, 1, 1, 1, 1, 1, 1, 1, 1,\n       1, 1, 1, 1, 1, 1, 1, 1, 1, 1, 1, 1, 1, 1, 1, 1, 1, 1, 1, 1, 1, 3,\n       4, 1, 1, 1, 1, 1, 1, 1, 1, 1, 1, 1, 1, 1, 1, 1, 1, 1, 1, 1, 1, 1,\n       1, 1, 1, 1, 1, 1, 1, 1, 1, 1, 1, 1, 1, 1, 1, 1, 1, 1, 1, 1, 1, 1,\n       1, 1, 1, 1, 1, 1, 1, 1, 1, 1, 1, 1, 1, 1, 1, 1, 1, 1, 1, 1, 1, 1,\n       1, 1, 1, 1, 5, 1, 1, 1, 1, 1, 1, 1, 1, 1, 1, 1, 1, 1, 1, 1, 1, 1,\n       1, 1, 1, 1, 1, 1, 1, 1, 1, 1, 1, 1, 1, 1, 1, 4, 1, 1, 1, 1, 1, 1,\n       1, 1, 1, 1, 1, 1, 1, 1, 1, 1, 1, 1, 1, 1, 1, 1, 1, 1, 1, 1, 1, 1,\n       1, 1, 1, 1, 1, 1, 1, 1, 1, 1, 1, 1, 1, 1, 1, 1, 1, 1, 1, 3, 1, 1,\n       1, 1, 1, 1, 1, 1, 1, 1, 1, 1, 1, 1, 1, 1, 1, 1, 1, 1, 1, 1, 1, 1,\n       4, 1, 1, 1, 1, 1, 1, 1, 1, 1, 1, 1, 1, 1, 1, 1, 1, 1, 1, 1, 1, 1,\n       1, 1, 1, 1, 1, 1, 1, 1, 1, 1, 1, 1, 1, 1, 1, 1, 1, 1, 1, 1, 1, 1,\n       1, 1, 1, 1, 1, 1, 1, 1, 1, 1, 1, 1, 1, 1, 1, 1, 1, 1, 1, 1, 1, 1,\n       4, 1, 1, 1, 1, 1, 1, 1, 1, 1, 1, 1, 1, 1, 3, 1, 1, 1, 1, 1, 1, 1,\n       1, 1, 1, 1, 1, 1, 1, 1, 1, 1, 1, 1, 1, 1, 1, 1, 1, 1, 1, 1, 1, 1,\n       1, 1, 1, 1, 1, 2, 1, 1, 1, 1, 1, 1, 1, 1, 1, 1, 1, 1, 4, 5, 1, 1,\n       1, 1, 1, 1, 1, 1, 1, 1, 4, 1, 1, 1, 1, 1, 4, 1, 1, 1, 1, 1, 1, 1,\n       4, 1, 1, 4, 1, 1, 1, 1, 1, 1, 1, 1, 1, 1, 1, 1, 1, 1, 1, 1, 1, 1,\n       1, 1, 1, 1, 1, 2, 1, 2, 1, 1, 1, 1, 1, 1, 1, 1, 1, 1, 1, 1, 1, 1,\n       3, 1, 1, 1, 1, 4, 1, 1, 1, 1, 1, 1, 1, 1, 1, 1, 1, 1, 1, 1, 1, 1,\n       1, 1, 1, 1, 1, 1, 1, 1, 1, 1, 1, 1, 1, 1, 1, 1, 4, 1, 1, 1, 1, 1,\n       1, 1, 1, 1, 1, 1, 1, 1, 1, 1, 1, 1, 1, 1, 1, 1, 1, 1, 1, 1, 1, 1,\n       1, 1, 1, 1, 1, 1, 1, 1, 1, 1, 1, 1, 1, 1, 1, 1, 1, 1, 1, 1, 1, 1,\n       1, 1, 1, 1, 1, 4, 1, 1, 1, 1, 1, 1, 1, 1, 1, 1, 1, 1, 1, 1, 1, 1,\n       1, 1, 4, 1, 1, 1, 1, 1, 1, 1, 1, 1, 1, 1, 1, 1, 1, 1, 1, 1, 1, 1,\n       1, 1, 1, 1, 1, 1, 1, 1, 1, 1, 1, 1, 1, 1, 1, 1, 4, 1, 1, 1, 1, 1,\n       1, 1, 1, 1, 1, 1, 3, 1, 1, 1, 1, 1, 1, 1, 1, 1, 1, 1, 1, 1, 1, 1,\n       1, 1, 4, 1, 1, 1, 1, 1, 1, 1, 1, 1, 1, 1, 1, 1, 1, 2, 1, 1, 1, 1,\n       1, 1, 1, 1, 1, 1, 1, 1, 1, 1, 1, 1, 1, 1, 1, 1, 1, 1, 1, 1, 1, 1,\n       1, 1, 1, 1, 1, 1, 1, 1, 1, 1, 1, 1, 1, 1, 1, 2, 1, 1, 1, 1, 1, 1,\n       1, 1, 1, 1, 1, 1, 1, 4, 1, 1, 1, 1, 1, 1, 1, 1, 1, 1, 1, 1, 1, 1,\n       1, 1, 1, 1, 1, 1, 1, 1, 1, 1, 1, 1, 1, 1, 1, 1, 1, 1, 1, 1, 1, 1,\n       1, 1, 1, 1, 1, 1, 1, 1, 1, 1, 1, 1, 1, 1, 1, 1, 1, 1, 1, 1, 1, 1,\n       1, 1, 1, 1, 1, 1, 1, 1, 1, 1, 1, 1, 1, 1, 1, 1, 1, 1, 1, 1, 1, 1,\n       1, 1, 1, 1, 1, 1, 1, 1, 1, 1, 1, 1, 1, 2, 1, 1, 1, 1, 1, 1, 1, 1,\n       1, 1, 1, 1, 1, 1, 1, 1, 1, 4, 1, 1, 1, 1, 1, 1, 1, 1, 1, 1, 1, 1,\n       1, 1, 1, 4, 1, 1, 1, 1, 1, 1, 1, 1, 1, 1, 1, 1, 1, 1, 1, 1, 1, 1,\n       1, 1, 1, 1, 1, 1, 1, 1, 1, 1, 1, 1, 1, 1, 1, 1, 1, 1, 1, 1, 1, 1,\n       1, 1, 1, 1, 1, 4, 5, 1, 1, 1, 1, 1, 1, 1, 1, 1, 1, 1, 1, 1, 1, 4,\n       1, 1, 1], dtype=int64)"
     },
     "execution_count": 16,
     "metadata": {},
     "output_type": "execute_result"
    }
   ],
   "source": [
    "#예측\n",
    "np.set_printoptions(threshold=sys.maxsize)\n",
    "guesses"
   ],
   "metadata": {
    "collapsed": false,
    "pycharm": {
     "name": "#%%\n"
    }
   }
  },
  {
   "cell_type": "code",
   "execution_count": 17,
   "outputs": [
    {
     "data": {
      "text/plain": "array([1, 1, 1, 1, 1, 1, 1, 1, 1, 1, 1, 1, 1, 1, 2, 4, 1, 1, 1, 1, 4, 1,\n       1, 1, 1, 1, 1, 1, 1, 1, 5, 1, 1, 1, 1, 1, 1, 1, 1, 3, 1, 1, 1, 1,\n       1, 3, 1, 1, 1, 4, 1, 2, 1, 1, 1, 1, 5, 1, 1, 3, 2, 1, 1, 1, 4, 1,\n       4, 1, 1, 1, 2, 1, 1, 3, 1, 2, 1, 1, 1, 1, 1, 1, 1, 1, 1, 1, 1, 1,\n       6, 4, 5, 1, 1, 3, 1, 1, 3, 1, 1, 1, 1, 1, 1, 1, 1, 2, 3, 1, 1, 1,\n       1, 1, 2, 1, 1, 1, 1, 1, 1, 5, 1, 1, 1, 1, 1, 1, 1, 1, 1, 1, 1, 1,\n       1, 1, 1, 1, 3, 1, 1, 1, 2, 1, 1, 1, 3, 2, 1, 4, 1, 1, 2, 1, 3, 3,\n       1, 2, 1, 3, 1, 1, 1, 1, 1, 1, 1, 1, 1, 1, 1, 3, 1, 1, 1, 1, 1, 1,\n       1, 1, 1, 1, 1, 1, 1, 1, 1, 1, 1, 1, 1, 2, 1, 1, 1, 1, 2, 1, 2, 1,\n       2, 1, 1, 1, 2, 1, 1, 1, 4, 2, 1, 1, 1, 1, 1, 1, 3, 1, 1, 1, 1, 1,\n       1, 1, 1, 1, 3, 1, 1, 1, 1, 1, 1, 1, 1, 3, 1, 1, 1, 1, 3, 1, 4, 1,\n       1, 1, 1, 1, 1, 1, 1, 1, 1, 1, 1, 1, 1, 3, 1, 1, 1, 6, 1, 1, 1, 1,\n       1, 1, 1, 1, 1, 1, 1, 1, 1, 1, 1, 1, 1, 3, 1, 1, 1, 1, 2, 1, 1, 1,\n       1, 2, 3, 2, 1, 1, 1, 3, 2, 1, 1, 2, 3, 1, 1, 1, 1, 1, 1, 1, 1, 1,\n       1, 1, 1, 1, 1, 1, 3, 1, 1, 1, 1, 1, 1, 1, 1, 1, 1, 1, 1, 1, 1, 1,\n       1, 1, 3, 1, 1, 1, 2, 3, 1, 1, 1, 1, 2, 1, 6, 1, 1, 1, 1, 1, 3, 3,\n       1, 1, 1, 1, 1, 3, 1, 2, 1, 3, 1, 1, 1, 1, 2, 1, 1, 1, 1, 1, 1, 1,\n       1, 1, 1, 1, 2, 1, 1, 1, 1, 1, 2, 1, 2, 2, 1, 2, 1, 1, 3, 2, 1, 1,\n       1, 1, 3, 6, 1, 1, 1, 1, 1, 1, 1, 1, 1, 1, 1, 1, 2, 1, 1, 1, 1, 1,\n       1, 1, 4, 1, 1, 1, 1, 1, 1, 1, 1, 1, 1, 1, 4, 1, 1, 2, 1, 1, 1, 1,\n       1, 1, 1, 1, 1, 1, 2, 1, 1, 1, 1, 1, 1, 1, 2, 2, 4, 1, 1, 1, 1, 1,\n       2, 1, 1, 1, 4, 1, 1, 1, 1, 2, 1, 1, 1, 1, 1, 4, 1, 1, 1, 1, 1, 1,\n       2, 1, 1, 2, 1, 1, 4, 1, 3, 1, 1, 1, 1, 1, 1, 1, 2, 1, 1, 1, 1, 1,\n       1, 1, 1, 1, 2, 1, 1, 1, 1, 1, 1, 1, 2, 1, 3, 1, 1, 1, 1, 1, 1, 1,\n       5, 1, 1, 1, 1, 3, 1, 1, 3, 3, 2, 1, 1, 1, 1, 1, 1, 1, 1, 1, 1, 1,\n       2, 1, 1, 2, 1, 1, 1, 1, 1, 3, 1, 1, 1, 1, 1, 1, 1, 1, 1, 1, 1, 1,\n       1, 3, 1, 1, 1, 1, 1, 1, 6, 1, 1, 1, 1, 5, 1, 3, 1, 1, 1, 2, 1, 4,\n       1, 1, 4, 1, 1, 1, 1, 1, 1, 1, 1, 1, 1, 1, 1, 1, 1, 1, 1, 1, 1, 1,\n       1, 2, 1, 1, 1, 1, 1, 1, 2, 3, 1, 1, 4, 1, 3, 1, 1, 1, 1, 1, 1, 1,\n       1, 1, 1, 2, 1, 1, 1, 1, 1, 1, 1, 1, 1, 1, 1, 1, 5, 1, 1, 1, 1, 1,\n       1, 2, 3, 1, 1, 1, 1, 4, 3, 1, 1, 2, 2, 1, 1, 3, 1, 1, 1, 1, 1, 1,\n       1, 1, 1, 2, 1, 1, 1, 1, 1, 1, 2, 1, 1, 1, 1, 1, 1, 1, 1, 1, 1, 1,\n       1, 1, 1, 2, 1, 3, 1, 1, 1, 1, 3, 1, 1, 1, 1, 1, 1, 1, 1, 2, 2, 1,\n       1, 1, 1, 1, 2, 1, 1, 1, 1, 1, 2, 1, 1, 1, 1, 1, 1, 1, 1, 1, 1, 1,\n       2, 1, 2, 1, 1, 1, 1, 1, 1, 2, 1, 1, 1, 4, 2, 1, 1, 1, 1, 1, 1, 1,\n       1, 2, 1, 1, 1, 1, 1, 1, 2, 1, 1, 1, 1, 5, 3, 1, 1, 3, 2, 1, 4, 1,\n       1, 1, 4, 1, 1, 1, 1, 1, 4, 4, 1, 3, 1, 1, 6, 1, 1, 1, 1, 3, 1, 1,\n       1, 1, 1, 1, 1, 2, 2, 2, 1, 2, 1, 1, 1, 1, 1, 1, 1, 1, 1, 1, 1, 1,\n       4, 1, 1, 1, 2, 3, 1, 3, 1, 1, 1, 1, 1, 2, 1, 1, 1, 2, 1, 1, 1, 3,\n       1, 2, 1, 2, 2, 1, 1, 1, 1, 1, 1, 2, 1, 1, 1, 3, 1, 1, 1, 1, 1, 2,\n       1, 3, 4, 2, 2, 1, 1, 3, 1, 1, 1, 1, 1, 1, 5, 1, 1, 1, 1, 1, 1, 5,\n       4, 1, 1, 3, 6, 2, 1, 1, 1, 1, 2, 2, 1, 1, 2, 1, 1, 1, 1, 1, 1, 1,\n       1, 1, 3, 1, 2, 1, 1, 1, 1, 3, 5, 1, 1, 1, 3, 1, 1, 1, 1, 1, 1, 3,\n       1, 1, 1, 2, 1, 1, 1, 1, 1, 1, 1, 1, 1, 6, 1, 1, 2, 1, 2, 3, 3, 1,\n       1, 1, 1], dtype=int64)"
     },
     "execution_count": 17,
     "metadata": {},
     "output_type": "execute_result"
    }
   ],
   "source": [
    "#실제\n",
    "y_test"
   ],
   "metadata": {
    "collapsed": false,
    "pycharm": {
     "name": "#%%\n"
    }
   }
  },
  {
   "cell_type": "code",
   "execution_count": 18,
   "id": "e1e8281f",
   "metadata": {
    "pycharm": {
     "name": "#%%\n"
    }
   },
   "outputs": [
    {
     "data": {
      "text/plain": "<Figure size 432x288 with 1 Axes>",
      "image/png": "[encoded data removed]"
     },
     "metadata": {
      "needs_background": "light"
     },
     "output_type": "display_data"
    }
   ],
   "source": [
    "# neighbor 파라미터 정하기\n",
    "k_list = range(1,10,2)\n",
    "accuracy_list = []\n",
    "\n",
    "for k in k_list:\n",
    "  classifier = KNeighborsClassifier(n_neighbors = k)\n",
    "  classifier.fit(x_train, y_train)\n",
    "  guesses = classifier.predict(x_test)\n",
    "  accuracy_list.append(accuracy_score(y_test, guesses))\n",
    "\n",
    "plt.plot(k_list, accuracy_list)\n",
    "plt.xlabel(\"k\")\n",
    "plt.ylabel(\"Validation Accuracy\")\n",
    "plt.title(\"Preferred volumn\")\n",
    "plt.show()"
   ]
  }
 ],
 "metadata": {
  "kernelspec": {
   "display_name": "Python 3",
   "language": "python",
   "name": "python3"
  },
  "language_info": {
   "codemirror_mode": {
    "name": "ipython",
    "version": 3
   },
   "file_extension": ".py",
   "mimetype": "text/x-python",
   "name": "python",
   "nbconvert_exporter": "python",
   "pygments_lexer": "ipython3",
   "version": "3.8.8"
  }
 },
 "nbformat": 4,
 "nbformat_minor": 5
}