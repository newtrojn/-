{
 "cells": [
  {
   "cell_type": "markdown",
   "source": [
    "# 1. Importing Library"
   ],
   "metadata": {
    "collapsed": false
   }
  },
  {
   "cell_type": "code",
   "execution_count": 1,
   "id": "4d7e3b74",
   "metadata": {},
   "outputs": [],
   "source": [
    "import numpy as np\n",
    "import pandas as pd\n",
    "import matplotlib.pyplot as plt\n",
    "import tensorflow as tf\n",
    "\n",
    "#data preprocess\n",
    "from sklearn.impute import SimpleImputer\n",
    "from tensorflow.keras.preprocessing.sequence import pad_sequences\n",
    "from sklearn.model_selection import train_test_split\n",
    "\n",
    "#model\n",
    "from tensorflow.keras.models import Sequential\n",
    "from tensorflow.keras.layers import Dense, Embedding\n",
    "from tensorflow.keras.layers import SimpleRNN\n",
    "from sklearn.utils import class_weight\n",
    "from sklearn.metrics import confusion_matrix\n",
    "from sklearn import metrics"
   ]
  },
  {
   "cell_type": "markdown",
   "source": [
    "# 2. Configuration"
   ],
   "metadata": {
    "collapsed": false
   }
  },
  {
   "cell_type": "code",
   "execution_count": 2,
   "outputs": [],
   "source": [
    "class CFG:\n",
    "  data_path = './data/df.csv'\n",
    "  imputer = 'median'\n",
    "  max_words = 2000\n",
    "  maxlen = 2\n",
    "  bins = [0,10,50,100,600]\n",
    "  epoch = 1"
   ],
   "metadata": {
    "collapsed": false,
    "pycharm": {
     "name": "#%%\n"
    }
   }
  },
  {
   "cell_type": "markdown",
   "source": [
    "# 3. Data Preprocessing"
   ],
   "metadata": {
    "collapsed": false,
    "pycharm": {
     "name": "#%% md\n"
    }
   }
  },
  {
   "cell_type": "code",
   "execution_count": 3,
   "outputs": [],
   "source": [
    "# df read\n",
    "df = pd.read_csv(CFG.data_path, header=0, dtype={'date_ori': str})\n",
    "df = df.sort_values(by=['date_ori'])\n",
    "df = df[df['item2'] == 'UPS']\n",
    "df = df[df['kind'] == 's']\n",
    "df = df.loc[:,['category1','category2','category3','year','month','volumn','count']]\n",
    "df = df[df['count']<50]\n",
    "df = df.reset_index(drop=True)"
   ],
   "metadata": {
    "collapsed": false,
    "pycharm": {
     "name": "#%%\n"
    }
   }
  },
  {
   "cell_type": "code",
   "execution_count": 4,
   "outputs": [
    {
     "data": {
      "text/plain": "     category1 category2 category3  year  month  volumn  count\n0         민간기업    건축및부동산        건축  2011      1    15.0   10.0\n1         민간기업    건축및부동산        건축  2011      1    30.0    1.0\n2         공공기관     공사,공단        공사  2011      1    15.0    1.0\n3         정보통신      정보통신      IT기업  2011      1    10.0    1.0\n4         공공기관        기관       부,처  2011      1    15.0    1.0\n...        ...       ...       ...   ...    ...     ...    ...\n4850      민간기업       제조업        기기  2020     12    50.0    1.0\n4851      교육기관      교육시설       연구소  2020     12    15.0    1.0\n4852      민간기업       제조업        기기  2020     12    30.0    1.0\n4853      공공기관       관공서       우체국  2020     12     3.0    1.0\n4854      공공기관        기관     단체,협회  2020     12     3.0    1.0\n\n[4855 rows x 7 columns]",
      "text/html": "<div>\n<style scoped>\n    .dataframe tbody tr th:only-of-type {\n        vertical-align: middle;\n    }\n\n    .dataframe tbody tr th {\n        vertical-align: top;\n    }\n\n    .dataframe thead th {\n        text-align: right;\n    }\n</style>\n<table border=\"1\" class=\"dataframe\">\n  <thead>\n    <tr style=\"text-align: right;\">\n      <th></th>\n      <th>category1</th>\n      <th>category2</th>\n      <th>category3</th>\n      <th>year</th>\n      <th>month</th>\n      <th>volumn</th>\n      <th>count</th>\n    </tr>\n  </thead>\n  <tbody>\n    <tr>\n      <th>0</th>\n      <td>민간기업</td>\n      <td>건축및부동산</td>\n      <td>건축</td>\n      <td>2011</td>\n      <td>1</td>\n      <td>15.0</td>\n      <td>10.0</td>\n    </tr>\n    <tr>\n      <th>1</th>\n      <td>민간기업</td>\n      <td>건축및부동산</td>\n      <td>건축</td>\n      <td>2011</td>\n      <td>1</td>\n      <td>30.0</td>\n      <td>1.0</td>\n    </tr>\n    <tr>\n      <th>2</th>\n      <td>공공기관</td>\n      <td>공사,공단</td>\n      <td>공사</td>\n      <td>2011</td>\n      <td>1</td>\n      <td>15.0</td>\n      <td>1.0</td>\n    </tr>\n    <tr>\n      <th>3</th>\n      <td>정보통신</td>\n      <td>정보통신</td>\n      <td>IT기업</td>\n      <td>2011</td>\n      <td>1</td>\n      <td>10.0</td>\n      <td>1.0</td>\n    </tr>\n    <tr>\n      <th>4</th>\n      <td>공공기관</td>\n      <td>기관</td>\n      <td>부,처</td>\n      <td>2011</td>\n      <td>1</td>\n      <td>15.0</td>\n      <td>1.0</td>\n    </tr>\n    <tr>\n      <th>...</th>\n      <td>...</td>\n      <td>...</td>\n      <td>...</td>\n      <td>...</td>\n      <td>...</td>\n      <td>...</td>\n      <td>...</td>\n    </tr>\n    <tr>\n      <th>4850</th>\n      <td>민간기업</td>\n      <td>제조업</td>\n      <td>기기</td>\n      <td>2020</td>\n      <td>12</td>\n      <td>50.0</td>\n      <td>1.0</td>\n    </tr>\n    <tr>\n      <th>4851</th>\n      <td>교육기관</td>\n      <td>교육시설</td>\n      <td>연구소</td>\n      <td>2020</td>\n      <td>12</td>\n      <td>15.0</td>\n      <td>1.0</td>\n    </tr>\n    <tr>\n      <th>4852</th>\n      <td>민간기업</td>\n      <td>제조업</td>\n      <td>기기</td>\n      <td>2020</td>\n      <td>12</td>\n      <td>30.0</td>\n      <td>1.0</td>\n    </tr>\n    <tr>\n      <th>4853</th>\n      <td>공공기관</td>\n      <td>관공서</td>\n      <td>우체국</td>\n      <td>2020</td>\n      <td>12</td>\n      <td>3.0</td>\n      <td>1.0</td>\n    </tr>\n    <tr>\n      <th>4854</th>\n      <td>공공기관</td>\n      <td>기관</td>\n      <td>단체,협회</td>\n      <td>2020</td>\n      <td>12</td>\n      <td>3.0</td>\n      <td>1.0</td>\n    </tr>\n  </tbody>\n</table>\n<p>4855 rows × 7 columns</p>\n</div>"
     },
     "execution_count": 4,
     "metadata": {},
     "output_type": "execute_result"
    }
   ],
   "source": [
    "#volumn 결측치를 중앙값으로 대체\n",
    "imputer=SimpleImputer(missing_values=np.nan,strategy=CFG.imputer)\n",
    "dataimputed=imputer.fit_transform(df['volumn'].values.reshape(-1,1))\n",
    "df['volumn']=dataimputed\n",
    "df"
   ],
   "metadata": {
    "collapsed": false,
    "pycharm": {
     "name": "#%%\n"
    }
   }
  },
  {
   "cell_type": "code",
   "execution_count": 5,
   "id": "a6cd7ec0",
   "metadata": {
    "scrolled": true
   },
   "outputs": [
    {
     "data": {
      "text/plain": "  category1 category2 category3  year  month  volumn  count         join\n0      민간기업    건축및부동산        건축  2011      1    15.0   10.0  민간기업-건축및부동산\n1      민간기업    건축및부동산        건축  2011      1    30.0    1.0  민간기업-건축및부동산\n2      공공기관     공사,공단        공사  2011      1    15.0    1.0   공공기관-공사,공단\n3      정보통신      정보통신      IT기업  2011      1    10.0    1.0    정보통신-정보통신\n4      공공기관        기관       부,처  2011      1    15.0    1.0      공공기관-기관",
      "text/html": "<div>\n<style scoped>\n    .dataframe tbody tr th:only-of-type {\n        vertical-align: middle;\n    }\n\n    .dataframe tbody tr th {\n        vertical-align: top;\n    }\n\n    .dataframe thead th {\n        text-align: right;\n    }\n</style>\n<table border=\"1\" class=\"dataframe\">\n  <thead>\n    <tr style=\"text-align: right;\">\n      <th></th>\n      <th>category1</th>\n      <th>category2</th>\n      <th>category3</th>\n      <th>year</th>\n      <th>month</th>\n      <th>volumn</th>\n      <th>count</th>\n      <th>join</th>\n    </tr>\n  </thead>\n  <tbody>\n    <tr>\n      <th>0</th>\n      <td>민간기업</td>\n      <td>건축및부동산</td>\n      <td>건축</td>\n      <td>2011</td>\n      <td>1</td>\n      <td>15.0</td>\n      <td>10.0</td>\n      <td>민간기업-건축및부동산</td>\n    </tr>\n    <tr>\n      <th>1</th>\n      <td>민간기업</td>\n      <td>건축및부동산</td>\n      <td>건축</td>\n      <td>2011</td>\n      <td>1</td>\n      <td>30.0</td>\n      <td>1.0</td>\n      <td>민간기업-건축및부동산</td>\n    </tr>\n    <tr>\n      <th>2</th>\n      <td>공공기관</td>\n      <td>공사,공단</td>\n      <td>공사</td>\n      <td>2011</td>\n      <td>1</td>\n      <td>15.0</td>\n      <td>1.0</td>\n      <td>공공기관-공사,공단</td>\n    </tr>\n    <tr>\n      <th>3</th>\n      <td>정보통신</td>\n      <td>정보통신</td>\n      <td>IT기업</td>\n      <td>2011</td>\n      <td>1</td>\n      <td>10.0</td>\n      <td>1.0</td>\n      <td>정보통신-정보통신</td>\n    </tr>\n    <tr>\n      <th>4</th>\n      <td>공공기관</td>\n      <td>기관</td>\n      <td>부,처</td>\n      <td>2011</td>\n      <td>1</td>\n      <td>15.0</td>\n      <td>1.0</td>\n      <td>공공기관-기관</td>\n    </tr>\n  </tbody>\n</table>\n</div>"
     },
     "execution_count": 5,
     "metadata": {},
     "output_type": "execute_result"
    }
   ],
   "source": [
    "#tokenizer화를 위한 데이터 조정\n",
    "cate1list=list(df['category1'])\n",
    "cate2list=list(df['category2'])\n",
    "joinlist=[]\n",
    "for i in range(len(cate1list)):\n",
    "    joinlist.append(cate1list[i]+'-'+cate2list[i])\n",
    "df['join']=joinlist\n",
    "df.head()"
   ]
  },
  {
   "cell_type": "code",
   "execution_count": 6,
   "id": "1cd9a9b2",
   "metadata": {},
   "outputs": [
    {
     "name": "stdout",
     "output_type": "stream",
     "text": [
      "lengths of 10 documents: [2, 2, 3, 2, 2, 2, 2, 2, 2, 3]\n",
      "num of tokens: 22\n"
     ]
    }
   ],
   "source": [
    "#token화\n",
    "from tensorflow.keras.preprocessing.text import Tokenizer\n",
    "np.random.seed(7)\n",
    "tf.random.set_seed(7)\n",
    "tokenizer = Tokenizer(num_words=CFG.max_words) # 빈도가 높은 2000개의 단어를 선택하도록 객체 생성\n",
    "tokenizer.fit_on_texts(joinlist) #단어 인덱스 구축\n",
    "\n",
    "X = tokenizer.texts_to_sequences(joinlist)\n",
    "print('lengths of 10 documents:', [len(doc) for doc in X[:10]])\n",
    "print('num of tokens:', len(tokenizer.word_index))"
   ]
  },
  {
   "cell_type": "code",
   "execution_count": 7,
   "id": "a87cf7c4",
   "metadata": {},
   "outputs": [
    {
     "name": "stdout",
     "output_type": "stream",
     "text": [
      "[[ 4 10]\n",
      " [ 4 10]\n",
      " [ 1  5]\n",
      " ...\n",
      " [ 4  7]\n",
      " [ 1 14]\n",
      " [ 1  3]]\n"
     ]
    }
   ],
   "source": [
    " #문서의 단어 수를 제한\n",
    "# 잘라낼 때, 앞을 자를 지, 뒤를 자를 지 선택할 수 있음. 뒤를 자름. post\n",
    "X = pad_sequences(X, maxlen=CFG.maxlen, truncating='post')\n",
    "print(X)"
   ]
  },
  {
   "cell_type": "code",
   "execution_count": 8,
   "id": "df97f994",
   "metadata": {},
   "outputs": [],
   "source": [
    "# UPS 용량 카테고리화\n",
    "volumn = df.iloc[:,5].values.reshape(-1,1)# numpy로 변환\n",
    "volumn = np.where(np.logical_and(volumn>=CFG.bins[0],volumn<=CFG.bins[1]), 1, volumn)\n",
    "volumn = np.where(np.logical_and(volumn>CFG.bins[1],volumn<=CFG.bins[2]), 2, volumn)\n",
    "volumn = np.where(np.logical_and(volumn>CFG.bins[2],volumn<=CFG.bins[3]), 3, volumn)\n",
    "volumn = np.where(np.logical_and(volumn>CFG.bins[3],volumn<=CFG.bins[4]), 4, volumn)\n",
    "volumn_one_hot = pd.get_dummies(volumn.reshape(-1))\n",
    "num_volumn = volumn_one_hot.shape[1]\n",
    "volumn_one_hot = volumn_one_hot.values.reshape(-1,num_volumn)"
   ]
  },
  {
   "cell_type": "markdown",
   "id": "19bb5c08",
   "metadata": {
    "pycharm": {
     "name": "#%% md\n"
    }
   },
   "source": [
    "# 4. RNN"
   ]
  },
  {
   "cell_type": "code",
   "execution_count": 9,
   "outputs": [
    {
     "name": "stdout",
     "output_type": "stream",
     "text": [
      "(4855, 2)\n"
     ]
    }
   ],
   "source": [
    "# X, Y\n",
    "array_join=np.array(X).astype(np.float32)\n",
    "print(array_join.shape)"
   ],
   "metadata": {
    "collapsed": false,
    "pycharm": {
     "name": "#%%\n"
    }
   }
  },
  {
   "cell_type": "code",
   "execution_count": 10,
   "outputs": [
    {
     "name": "stdout",
     "output_type": "stream",
     "text": [
      "(4855, 2)\n",
      "(4855, 4)\n"
     ]
    }
   ],
   "source": [
    "x = array_join\n",
    "y = volumn_one_hot\n",
    "print(x.shape)\n",
    "print(y.shape)"
   ],
   "metadata": {
    "collapsed": false,
    "pycharm": {
     "name": "#%%\n"
    }
   }
  },
  {
   "cell_type": "code",
   "execution_count": 11,
   "id": "7de7dfda",
   "metadata": {},
   "outputs": [
    {
     "name": "stdout",
     "output_type": "stream",
     "text": [
      "(3884, 2)\n",
      "(3884, 4)\n",
      "(971, 2)\n",
      "(971, 4)\n"
     ]
    }
   ],
   "source": [
    "#train test dataset 분리\n",
    "x_train, x_test, y_train, y_test = train_test_split(x, y, test_size=0.2, random_state=10)\n",
    "\n",
    "print(x_train.shape)\n",
    "print(y_train.shape)\n",
    "print(x_test.shape)\n",
    "print(y_test.shape)"
   ]
  },
  {
   "cell_type": "code",
   "execution_count": 12,
   "id": "3853e7f8",
   "metadata": {},
   "outputs": [],
   "source": [
    "%matplotlib inline\n",
    "def plot_results(history, metric):\n",
    "    plt.plot(history.history[metric], 'b', label='Training '+metric)\n",
    "    plt.plot(history.history['val_'+metric], 'r--', label='Validation '+metric)\n",
    "    plt.title('Training and validation '+metric)\n",
    "    plt.xlabel('Epochs')\n",
    "    plt.ylabel(metric)\n",
    "    plt.legend()\n",
    "    plt.show()\n"
   ]
  },
  {
   "cell_type": "code",
   "execution_count": 13,
   "outputs": [
    {
     "name": "stdout",
     "output_type": "stream",
     "text": [
      "{0: 0.4059364548494983, 1: 0.9309683604985618, 2: 3.2915254237288134, 3: 6.305194805194805}\n"
     ]
    },
    {
     "name": "stderr",
     "output_type": "stream",
     "text": [
      "C:\\ProgramData\\Anaconda3\\envs\\pythonProject\\lib\\site-packages\\sklearn\\utils\\validation.py:70: FutureWarning: Pass classes=[0 1 2 3], y=[1 0 0 ... 1 0 3] as keyword args. From version 1.0 (renaming of 0.25) passing these as positional arguments will result in an error\n",
      "  warnings.warn(f\"Pass {args_msg} as keyword args. From version \"\n"
     ]
    }
   ],
   "source": [
    "#class weight\n",
    "weights = class_weight.compute_class_weight('balanced', np.unique(np.argmax(y_train,axis=1)), np.argmax(y_train,axis=1))\n",
    "weights = {i : weights[i] for i in range(len(weights))}\n",
    "print(weights)"
   ],
   "metadata": {
    "collapsed": false,
    "pycharm": {
     "name": "#%%\n"
    }
   }
  },
  {
   "cell_type": "code",
   "execution_count": 14,
   "id": "1be29734",
   "metadata": {},
   "outputs": [
    {
     "name": "stdout",
     "output_type": "stream",
     "text": [
      "Model: \"sequential\"\n",
      "_________________________________________________________________\n",
      "Layer (type)                 Output Shape              Param #   \n",
      "=================================================================\n",
      "embedding (Embedding)        (None, 2, 512)            1024000   \n",
      "_________________________________________________________________\n",
      "simple_rnn (SimpleRNN)       (None, 128)               82048     \n",
      "_________________________________________________________________\n",
      "dense (Dense)                (None, 128)               16512     \n",
      "_________________________________________________________________\n",
      "dense_1 (Dense)              (None, 64)                8256      \n",
      "_________________________________________________________________\n",
      "dense_2 (Dense)              (None, 32)                2080      \n",
      "_________________________________________________________________\n",
      "dense_3 (Dense)              (None, 16)                528       \n",
      "_________________________________________________________________\n",
      "dense_4 (Dense)              (None, 8)                 136       \n",
      "_________________________________________________________________\n",
      "dense_5 (Dense)              (None, 4)                 36        \n",
      "=================================================================\n",
      "Total params: 1,133,596\n",
      "Trainable params: 1,133,596\n",
      "Non-trainable params: 0\n",
      "_________________________________________________________________\n"
     ]
    }
   ],
   "source": [
    "#model\n",
    "initializer=tf.keras.initializers.GlorotUniform(seed=1)\n",
    "model = Sequential([ #원래 모델 구성\n",
    "    Embedding(CFG.max_words, 512, input_length=2),\n",
    "    SimpleRNN(128),\n",
    "    Dense(128, activation='relu',kernel_initializer=initializer),\n",
    "    Dense(64, activation='relu',kernel_initializer=initializer),\n",
    "    Dense(32, activation='relu',kernel_initializer=initializer),\n",
    "    Dense(16, activation='relu',kernel_initializer=initializer),\n",
    "    Dense(8, activation='relu',kernel_initializer=initializer),\n",
    "    Dense(4, activation='softmax',kernel_initializer=initializer)\n",
    "])\n",
    "model.summary()"
   ]
  },
  {
   "cell_type": "code",
   "execution_count": 15,
   "outputs": [
    {
     "name": "stdout",
     "output_type": "stream",
     "text": [
      "WARNING:tensorflow:From C:\\Users\\ckdgu\\AppData\\Roaming\\Python\\Python38\\site-packages\\tensorflow\\python\\ops\\array_ops.py:5043: calling gather (from tensorflow.python.ops.array_ops) with validate_indices is deprecated and will be removed in a future version.\n",
      "Instructions for updating:\n",
      "The `validate_indices` argument has no effect. Indices are always validated on CPU and never validated on GPU.\n",
      "98/98 [==============================] - 3s 22ms/step - loss: 1.3667 - acc: 0.4271 - val_loss: 1.2278 - val_acc: 0.3925\b\b\b\b\b\b\b\b\b\b\b\b\b\b\b\b\b\b\b\b\b\b\b\b\b\b\b\b\b\b\b\b\b\b\b\b\b\b\b\b\b\b\b\b\b\b\b\b\b\b\b\b\b\b\b\b\b\b\b\b\b\b\b\b\b\b\b\b\b\b\b\b\b\b\b\b\b\b\b\b\b\b\b\b\b\b\b\b\b\b\b\b\b\b\b\b\b\b\b\b\b\b\b\b\b\b\b\b\b\b\b\b\b\b\b\b\b\b\b\b\b\b\b\b\b\b\b\b\b\b\b\b\b\b\b\b\b\b\b\b\b\b\b\b\b\b\b\b\b\b\b\b\b\b\b\b\b\b\b\b\b\b\b\b\b\b\b\b\b\b\b\b\b\b\b\b\b\b\b\b\b\b\b\b\b\b\b\b\b\b\b\b\b\b\b\b\b\b\b\b\b\b\b\b\b\b\b\b\b\b\b\b\b\b\b\b\b\b\b\b\b\b\b\b\b\b\b\b\b\b\b\b\b\b\b\b\b\b\b\b\b\b\b\b\b\b\b\b\b\b\b\b\b\b\b\b\b\b\b\b\b\b\b\b\b\b\b\b\b\b\b\b\b\b\b\b\b\b\b\b\b\b\b\b\b\b\b\b\b\b\b\b\b\b\b\b\b\b\b\b\b\b\b\b\b\b\b\b\b\b\b\b\b\b\b\b\b\b\b\b\b\b\b\b\b\b\b\b\b\b\b\b\b\b\b\b\b\b\b\b\b\b\b\b\b\b\b\b\b\b\b\b\b\b\b\b\b\b\b\b\b\b\b\b\b\b\b\b\b\b\b\b\b\b\b\b\b\b\b\b\b\b\b\b\b\b\b\b\b\b\b\b\b\b\b\b\b\b\b\b\b\b\b\b\b\b\b\b\b\b\b\b\b\b\b\b\b\b\b\b\b\b\b\b\b\b\b\b\b\b\b\b\b\b\b\b\b\b\b\b\b\b\b\b\b\b\b\b\b\b\b\b\b\b\b\b\b\b\b\b\b\b\b\b\b\b\b\b\b\b\b\b\b\b\b\b\b\b\b\b\b\b\b\b\b\b\b\b\b\b\b\b\b\b\b\b\b\b\b\b\b\b\b\b\b\b\b\b\b\b\b\b\b\b\b\b\b\b\b\b\b\b\b\b\b\b\b\b\b\b\b\b\b\b\b\b\b\b\b\b\b\b\b\b\b\b\b\b\b\b\b\b\b\b\b\b\b\b\b\b\b\b\b\b\b\b\b\b\b\b\b\b\b\b\b\b\b\b\b\b\b\b\b\b\b\b\b\b\b\b\b\b\b\b\b\b\b\b\b\b\b\b\b\b\b\b\b\b\b\b\b\b\b\b\b\b\b\b\b\b\b\b\b\b\b\b\b\b\b\b\b\b\b\b\b\b\b\b\b\b\b\b\b\b\b\b\b\b\b\b\b\b\b\b\b\b\b\b\b\b\b\b\b\b\b\b\b\b\b\b\b\b\b\b\b\b\b\b\b\b\b\b\b\b\b\b\b\b\b\b\b\b\b\b\b\b\b\b\b\b\b\b\b\b\b\b\b\b\b\b\b\b\b\b\b\b\b\b\b\b\b\b\b\b\b\b\b\b\b\b\b\b\b\b\b\b\b\b\b\b\b\b\b\b\b\b\b\b\b\b\b\b\b\b\b\b\b\b\b\b\b\b\b\b\b\b\b\b\b\b\b\b\b\b\b\b\b\b\b\b\b\b\b\b\b\b\b\b\b\b\b\b\b\b\b\b\b\b\b\b\b\b\b\b\b\b\b\b\b\b\b\b\b\b\b\b\b\b\b\b\b\b\b\b\b\b\b\b\b\b\b\b\b\b\b\b\b\b\b\b\b\b\b\b\b\b\b\b\b\b\b\b\b\b\b\b\b\b\b\b\b\b\b\b\b\b\b\b\b\b\b\b\b\b\b\b\b\b\b\b\b\b\b\b\b\b\b\b\b\b\b\b\b\b\b\b\b\b\b\b\b\b\b\b\b\b\b\b\b\b\b\b\b\b\b\b\b\b\b\b\b\b\b\b\b\b\b\b\b\b\b\b\b\b\b\b\b\b\b\b\b\b\b\b\b\b\b\b\b\b\b\b\b\b\b\b\b\b\b\b\b\b\b\b\b\b\b\b\b\b\b\b\b\b\b\b\b\b\b\b\b\b\b\b\b\b\b\b\b\b\b\b\b\b\b\b\b\b\b\b\b\b\b\b\b\b\b\b\b\b\b\b\b\b\b\b\b\b\b\b\b\b\b\b\b\b\b\b\b\b\b\b\b\b\b\b\b\b\b\b\b\b\b\b\b\b\b\b\b\b\b\b\b\b\b\b\b\b\b\b\b\b\b\b\b\b\b\b\b\b\b\b\b\b\b\b\b\b\b\b\b\b\b\b\b\b\b\b\b\b\b\b\b\b\b\b\b\b\b\b\b\b\b\b\b\b\b\b\b\b\b\b\b\b\b\b\b\b\b\b\b\b\b\b\b\b\b\b\b\b\b\b\b\b\b\b\b\b\b\b\b\b\b\b\b\b\b\b\b\b\b\b\b\b\b\b\b\b\b\b\b\b\b\b\b\b\b\b\b\b\b\b\b\b\b\b\b\b\b\b\b\b\b\b\b\b\b\b\b\b\b\b\b\b\b\b\b\b\b\b\b\b\b\b\b\b\b\b\b\b\b\b\b\b\b\b\b\b\b\b\b\b\b\b\b\b\b\b\b\b\b\b\b\b\b\b\b\b\b\b\b\b\b\b\b\b\b\b\b\b\b\b\b\b\b\b\b\b\b\b\b\b\b\b\b\b\b\b\b\b\b\b\b\b\b\b\b\b\b\b\b\b\b\b\b\b\b\b\b\b\b\b\b\b\b\b\b\b\b\b\b\b\b\b\b\b\b\b\b\b\b\b\b\b\b\b\b\b\b\b\b\b\b\b\b\b\b\b\b\b\b\b\b\b\b\b\b\b\b\b\b\b\b\b\b\b\b\b\b\b\b\b\b\b\b\b\b\b\b\b\b\b\b\b\b\b\b\b\b\b\b\b\b\b\b\b\b\b\b\b\b\b\b\b\b\b\b\b\b\b\b\b\b\b\b\b\b\b\b\b\b\b\b\b\b\b\b\b\b\b\b\b\b\b\b\b\b\b\b\b\b\b\b\b\b\b\b\b\b\b\b\b\b\b\b\b\b\b\b\b\b\b\b\b\b\b\b\b\b\b\b\b\b\b\b\b\b\b\b\b\b\b\b\b\b\b\b\b\b\b\b\b\b\b\b\b\b\b\b\b\b\b\b\b\b\b\b\b\b\b\b\b\b\b\b\b\b\b\b\b\b\b\b\b\b\b\b\b\b\b\b\b\b\b\b\b\b\b\b\b\b\b\b\b\b\b\b\b\b\b\b\b\b\b\b\b\b\b\b\b\b\b\b\b\b\b\b\b\b\b\b\b\b\b\b\b\b\b\b\b\b\b\b\b\b\b\b\b\b\b\b\b\b\b\b\b\b\b\b\b\b\b\b\b\b\b\b\b\b\b\b\b\b\b\b\b\b\b\b\b\b\b\b\b\b\b\b\b\b\b\b\b\b\b\b\b\b\b\b\b\b\b\b\b\b\b\b\b\b\b\b\b\b\b\b\b\b\b\b\b\b\b\b\b\b\b\b\b\b\b\b\b\b\b\b\b\b\b\b\b\b\b\b\b\b\b\b\b\b\b\b\b\b\b\b\b\b\b\b\b\b\b\b\b\b\b\b\b\b\b\b\b\b\b\b\b\b\b\b\b\b\b\b\b\b\b\b\b\b\b\b\b\b\b\b\b\b\b\b\b\b\b\b\b\b\b\b\b\b\b\b\b\b\b\b\b\b\b\b\b\b\b\b\b\b\b\b\b\b\b\b\b\b\b\b\b\b\b\b\b\b\b\b\b\b\b\b\b\b\b\b\b\b\b\b\b\b\b\b\b\b\b\b\b\b\b\b\b\b\b\b\b\b\b\b\b\b\b\b\b\b\b\b\b\b\b\b\b\b\b\b\b\b\b\b\b\b\b\b\b\b\b\b\b\b\b\b\b\b\b\b\b\b\b\b\b\b\b\b\b\b\b\b\b\b\b\b\b\b\b\b\b\b\b\b\b\b\b\b\b\b\b\b\b\b\b\b\b\b\b\b\b\b\b\b\b\b\b\b\b\b\b\b\b\b\b\b\b\b\b\b\b\b\b\b\b\b\b\b\b\b\b\b\b\b\b\b\b\b\b\b\b\b\b\b\b\b\b\b\b\b\b\b\b\b\b\b\b\b\b\b\b\b\b\b\b\b\b\b\b\b\b\b\b\b\b\b\b\b\b\b\b\b\b\b\b\b\b\b\b\b\b\b\b\b\b\b\b\b\b\b\b\b\b\b\b\b\b\b\b\b\b\b\b\b\b\b\b\b\b\b\b\b\b\b\b\b\b\b\b\b\b\b\b\b\b\b\b\b\b\b\b\b\b\b\b\b\b\b\b\b\b\b\b\b\b\b\b\b\b\b\b\b\b\b\b\b\b\b\b\b\b\b\b\b\b\b\b\b\b\b\b\b\b\b\b\b\b\b\b\b\b\b\b\b\b\b\b\b\b\b\b\b\b\b\b\b\b\b\b\b\b\b\b\b\b\b\b\b\b\b\b\b\b\b\b\b\b\b\b\b\b\b\b\b\b\b\b\b\b\b\b\b\b\b\b\b\b\b\b\b\b\b\b\b\b\b\b\b\b\b\b\b\b\b\b\b\b\b\b\b\b\b\b\b\b\b\b\b\b\b\b\b\b\b\b\b\b\b\b\b\b\b\b\b\b\b\b\b\b\b\b\b\b\b\b\b\b\b\b\b\b\b\b\b\b\b\b\b\b\b\b\b\b\b\b\b\b\b\b\b\b\b\b\b\b\b\b\b\b\b\b\b\b\b\b\b\b\b\b\b\b\b\b\b\b\b\b\b\b\b\b\b\b\b\b\b\b\b\b\b\b\b\b\b\b\b\b\b\b\b\b\b\b\b\b\b\b\b\b\b\b\b\b\b\b\b\b\b\b\b\b\b\b\b\b\b\b\b\b\b\b\b\b\b\b\b\b\b\b\b\b\b\b\b\b\b\b\b\b\b\b\b\b\b\b\b\b\b\b\b\b\b\b\b\b\b\b\b\b\b\b\b\b\b\b\b\b\b\b\b\b\b\b\b\b\b\b\b\b\b\b\b\b\b\b\b\b\b\n"
     ]
    }
   ],
   "source": [
    "#model compile, fit\n",
    "model.compile(optimizer='adam', loss=tf.keras.losses.categorical_crossentropy, metrics=['acc'])\n",
    "history = model.fit(x_train, y_train,\n",
    "                    epochs=CFG.epoch,\n",
    "                    verbose=1,\n",
    "                    validation_split=0.2,\n",
    "                    class_weight=weights,shuffle=False)"
   ],
   "metadata": {
    "collapsed": false,
    "pycharm": {
     "name": "#%%\n"
    }
   }
  },
  {
   "cell_type": "code",
   "execution_count": 16,
   "outputs": [
    {
     "data": {
      "text/plain": "<Figure size 432x288 with 1 Axes>",
      "image/png": "[encoded data removed]"
     },
     "metadata": {
      "needs_background": "light"
     },
     "output_type": "display_data"
    }
   ],
   "source": [
    "#evaluate\n",
    "plot_results(history, 'loss')"
   ],
   "metadata": {
    "collapsed": false,
    "pycharm": {
     "name": "#%%\n"
    }
   }
  },
  {
   "cell_type": "code",
   "execution_count": 17,
   "outputs": [
    {
     "name": "stdout",
     "output_type": "stream",
     "text": [
      "31/31 [==============================] - 0s 2ms/step - loss: 1.2092 - acc: 0.3986\b\b\b\b\b\b\b\b\b\b\b\b\b\b\b\b\b\b\b\b\b\b\b\b\b\b\b\b\b\b\b\b\b\b\b\b\b\b\b\b\b\b\b\b\b\b\b\b\b\b\b\b\b\b\b\b\b\b\b\b\b\b\b\b\b\b\b\b\b\b\b\b\b\b\b\b\b\b\b\b\b\b\b\b\b\b\b\b\b\b\b\b\b\b\b\b\b\b\b\b\b\b\b\b\b\b\b\b\b\b\b\b\b\b\b\b\b\b\b\b\b\b\b\b\b\b\b\b\b\b\b\b\b\b\b\b\b\b\b\b\b\b\b\b\b\b\b\b\b\b\n",
      "#Test accuracy:0.399\n",
      "[[353   0  79 162]\n",
      " [105   0  51 111]\n",
      " [ 24   0  13  32]\n",
      " [ 14   0   6  21]]\n",
      "0.39855818743563337\n"
     ]
    }
   ],
   "source": [
    "score = model.evaluate(x_test, y_test)\n",
    "guesses = model.predict(x_test)\n",
    "print(f'#Test accuracy:{score[1]:.3f}')\n",
    "print(confusion_matrix(y_test.argmax(axis=1), guesses.argmax(axis=1),labels=[0,1,2,3]))\n",
    "print(metrics.accuracy_score(y_test.argmax(axis=1), guesses.argmax(axis=1)))"
   ],
   "metadata": {
    "collapsed": false,
    "pycharm": {
     "name": "#%%\n"
    }
   }
  },
  {
   "cell_type": "code",
   "execution_count": 18,
   "outputs": [
    {
     "data": {
      "text/plain": "array([0, 2, 2, 3, 0, 3, 3, 0, 2, 0, 2, 3, 0, 0, 0, 2, 3, 0, 2, 0, 2, 3,\n       0, 3, 2, 3, 3, 3, 3, 0, 0, 3, 0, 3, 0, 3, 0, 2, 2, 0, 0, 0, 3, 2,\n       0, 3, 2, 0, 0, 0, 3, 3, 0, 0, 3, 0, 0, 2, 0, 2, 3, 3, 3, 3, 0, 0,\n       3, 3, 3, 2, 0, 0, 3, 3, 3, 3, 0, 0, 0, 3, 0, 3, 3, 0, 3, 2, 2, 3,\n       2, 0, 0, 0, 3, 0, 2, 0, 0, 0, 3, 0, 0, 3, 3, 0, 3, 0, 3, 2, 0, 0,\n       3, 3, 3, 0, 0, 2, 0, 2, 2, 2, 3, 0, 0, 3, 3, 3, 2, 0, 0, 0, 3, 3,\n       0, 0, 0, 2, 0, 2, 0, 0, 2, 2, 0, 2, 2, 3, 3, 3, 0, 3, 0, 3, 0, 0,\n       3, 3, 0, 2, 0, 0, 0, 2, 0, 0, 0, 0, 0, 2, 3, 3, 0, 0, 3, 0, 2, 3,\n       0, 0, 3, 0, 3, 0, 3, 0, 3, 3, 0, 3, 0, 0, 0, 0, 0, 3, 2, 0, 0, 0,\n       0, 3, 3, 3, 0, 0, 3, 3, 2, 0, 2, 0, 0, 0, 0, 0, 2, 0, 0, 0, 0, 0,\n       0, 0, 3, 3, 2, 3, 0, 0, 3, 0, 0, 3, 3, 0, 0, 0, 0, 0, 3, 2, 3, 3,\n       3, 0, 0, 3, 0, 2, 0, 0, 3, 3, 0, 0, 0, 0, 3, 3, 0, 0, 0, 3, 3, 0,\n       0, 3, 3, 0, 3, 0, 0, 3, 0, 2, 0, 3, 3, 3, 0, 0, 2, 3, 0, 0, 0, 0,\n       3, 3, 3, 3, 2, 3, 3, 0, 3, 2, 0, 3, 0, 2, 0, 2, 0, 0, 0, 3, 0, 0,\n       3, 2, 0, 3, 0, 0, 3, 0, 3, 0, 0, 0, 3, 0, 0, 0, 0, 2, 0, 3, 0, 2,\n       0, 0, 3, 2, 0, 3, 3, 0, 0, 3, 2, 2, 2, 0, 3, 0, 2, 0, 3, 3, 3, 3,\n       0, 0, 0, 2, 3, 0, 0, 0, 0, 2, 2, 0, 0, 2, 0, 3, 0, 2, 0, 2, 0, 0,\n       0, 0, 0, 0, 0, 0, 2, 2, 2, 3, 3, 0, 3, 3, 0, 3, 3, 0, 0, 0, 3, 3,\n       2, 0, 0, 0, 0, 3, 0, 3, 2, 0, 2, 0, 0, 3, 0, 0, 0, 2, 2, 0, 0, 0,\n       0, 3, 0, 3, 0, 0, 0, 0, 0, 0, 0, 3, 0, 3, 3, 0, 0, 0, 0, 0, 0, 0,\n       3, 3, 0, 3, 0, 3, 0, 0, 2, 3, 3, 0, 3, 0, 3, 0, 2, 0, 2, 3, 2, 0,\n       0, 0, 3, 0, 0, 3, 0, 0, 0, 3, 0, 2, 0, 3, 0, 0, 2, 2, 3, 0, 3, 2,\n       0, 0, 0, 0, 3, 2, 3, 0, 0, 3, 3, 3, 3, 0, 0, 0, 2, 0, 0, 0, 0, 0,\n       0, 3, 3, 3, 3, 3, 0, 3, 0, 3, 3, 0, 0, 0, 3, 0, 0, 3, 0, 3, 2, 0,\n       2, 0, 0, 0, 3, 0, 3, 0, 2, 0, 0, 0, 3, 3, 2, 0, 3, 0, 3, 0, 0, 0,\n       0, 0, 0, 3, 3, 0, 2, 0, 0, 0, 0, 0, 2, 0, 0, 3, 2, 3, 0, 3, 0, 3,\n       0, 0, 0, 0, 3, 3, 0, 0, 3, 2, 3, 0, 0, 0, 2, 0, 0, 2, 3, 3, 2, 0,\n       0, 2, 3, 0, 0, 2, 0, 2, 0, 0, 0, 3, 0, 0, 0, 2, 0, 0, 3, 3, 0, 0,\n       3, 3, 0, 0, 0, 0, 0, 0, 3, 0, 0, 3, 0, 3, 0, 0, 0, 3, 3, 3, 3, 0,\n       3, 2, 0, 0, 2, 3, 3, 0, 3, 3, 0, 3, 3, 0, 3, 0, 0, 0, 0, 3, 3, 0,\n       0, 2, 0, 0, 0, 0, 0, 0, 0, 0, 3, 2, 0, 3, 0, 0, 0, 3, 2, 0, 0, 3,\n       0, 0, 3, 0, 2, 3, 0, 0, 3, 3, 3, 2, 3, 3, 2, 0, 3, 2, 0, 0, 0, 0,\n       3, 0, 0, 0, 0, 0, 0, 0, 0, 3, 2, 3, 2, 0, 3, 3, 0, 3, 2, 0, 0, 3,\n       2, 3, 3, 0, 0, 2, 0, 0, 0, 0, 2, 2, 3, 0, 3, 0, 3, 3, 3, 3, 0, 3,\n       3, 0, 0, 3, 0, 3, 0, 3, 0, 2, 3, 2, 0, 3, 3, 3, 0, 3, 0, 0, 3, 0,\n       2, 3, 0, 3, 3, 0, 3, 2, 3, 0, 0, 2, 2, 3, 0, 3, 0, 0, 3, 0, 3, 2,\n       2, 0, 3, 0, 0, 3, 0, 0, 2, 2, 3, 3, 3, 0, 3, 0, 0, 3, 0, 2, 3, 3,\n       2, 3, 0, 3, 0, 0, 3, 3, 0, 2, 3, 3, 0, 3, 0, 3, 3, 0, 2, 3, 3, 3,\n       2, 3, 0, 2, 3, 0, 2, 3, 3, 0, 3, 0, 0, 3, 2, 3, 0, 0, 0, 3, 0, 0,\n       3, 3, 2, 0, 3, 3, 3, 3, 0, 0, 3, 0, 2, 0, 0, 0, 3, 0, 0, 0, 0, 3,\n       0, 3, 3, 0, 0, 2, 3, 3, 0, 0, 2, 2, 0, 3, 0, 3, 3, 2, 0, 2, 0, 0,\n       2, 3, 3, 0, 3, 3, 3, 0, 2, 3, 0, 2, 3, 3, 3, 0, 2, 0, 0, 2, 3, 3,\n       2, 3, 2, 0, 2, 3, 0, 2, 3, 0, 3, 0, 0, 0, 3, 0, 2, 2, 2, 0, 0, 3,\n       0, 3, 0, 0, 0, 2, 0, 0, 0, 0, 0, 3, 0, 3, 3, 0, 0, 0, 0, 0, 0, 0,\n       0, 0, 0], dtype=int64)"
     },
     "execution_count": 18,
     "metadata": {},
     "output_type": "execute_result"
    }
   ],
   "source": [
    "guesses.argmax(axis=1)"
   ],
   "metadata": {
    "collapsed": false,
    "pycharm": {
     "name": "#%%\n"
    }
   }
  },
  {
   "cell_type": "code",
   "execution_count": 19,
   "outputs": [
    {
     "data": {
      "text/plain": "array([0, 1, 0, 1, 2, 0, 1, 0, 0, 1, 2, 1, 2, 1, 1, 0, 0, 0, 1, 0, 0, 0,\n       0, 0, 0, 1, 2, 1, 0, 2, 0, 0, 0, 0, 0, 1, 1, 1, 1, 0, 1, 1, 1, 0,\n       0, 0, 0, 0, 0, 2, 1, 0, 0, 1, 1, 3, 2, 0, 0, 0, 1, 3, 0, 1, 0, 0,\n       0, 0, 0, 0, 0, 0, 1, 0, 1, 1, 0, 0, 1, 3, 0, 2, 1, 0, 1, 1, 0, 1,\n       0, 0, 0, 0, 0, 3, 1, 2, 1, 0, 0, 0, 1, 1, 0, 0, 0, 0, 0, 0, 1, 0,\n       3, 3, 1, 3, 2, 0, 0, 1, 1, 0, 0, 0, 0, 0, 0, 0, 0, 0, 0, 0, 0, 1,\n       0, 1, 0, 0, 1, 0, 0, 0, 2, 0, 0, 0, 0, 0, 1, 2, 0, 1, 0, 2, 0, 2,\n       1, 0, 0, 1, 1, 1, 0, 0, 1, 0, 0, 0, 0, 0, 0, 0, 0, 2, 1, 0, 0, 0,\n       0, 0, 1, 0, 0, 0, 3, 0, 0, 3, 0, 2, 0, 0, 0, 0, 0, 0, 2, 0, 0, 0,\n       0, 0, 1, 1, 0, 0, 2, 0, 1, 0, 0, 0, 0, 1, 0, 0, 0, 0, 1, 2, 0, 1,\n       1, 0, 0, 0, 0, 2, 0, 0, 1, 0, 0, 0, 1, 0, 0, 2, 0, 0, 1, 0, 0, 1,\n       0, 0, 0, 2, 0, 0, 0, 1, 2, 0, 0, 0, 1, 0, 0, 0, 0, 0, 0, 1, 0, 0,\n       0, 0, 0, 0, 0, 1, 1, 1, 0, 0, 0, 3, 0, 0, 0, 0, 1, 3, 0, 0, 3, 2,\n       0, 1, 0, 3, 0, 2, 0, 0, 0, 1, 1, 0, 0, 0, 0, 1, 0, 0, 0, 0, 0, 1,\n       1, 1, 2, 0, 0, 0, 1, 0, 0, 0, 1, 0, 0, 0, 0, 0, 0, 0, 0, 2, 0, 2,\n       0, 0, 0, 0, 1, 2, 2, 0, 0, 1, 2, 1, 0, 1, 0, 1, 0, 0, 1, 0, 0, 2,\n       0, 0, 1, 0, 0, 0, 0, 0, 0, 1, 0, 0, 3, 1, 0, 0, 0, 0, 0, 0, 0, 0,\n       0, 0, 1, 0, 0, 0, 1, 1, 1, 1, 0, 0, 1, 1, 1, 0, 1, 1, 1, 0, 2, 0,\n       1, 0, 3, 3, 0, 3, 1, 0, 1, 1, 1, 1, 0, 0, 0, 0, 0, 1, 1, 3, 0, 0,\n       0, 1, 0, 1, 0, 0, 1, 1, 0, 1, 0, 0, 1, 0, 1, 0, 0, 0, 1, 0, 1, 0,\n       1, 1, 1, 1, 0, 0, 0, 0, 1, 1, 0, 1, 1, 0, 0, 1, 0, 0, 3, 1, 1, 0,\n       0, 0, 0, 0, 0, 0, 0, 1, 1, 1, 0, 0, 0, 0, 2, 0, 0, 0, 0, 1, 0, 0,\n       0, 0, 0, 0, 2, 1, 0, 2, 2, 0, 0, 0, 0, 0, 0, 0, 1, 0, 1, 0, 0, 0,\n       0, 1, 0, 1, 1, 1, 0, 0, 0, 0, 1, 0, 0, 0, 0, 1, 0, 0, 0, 1, 0, 0,\n       2, 0, 1, 3, 0, 0, 0, 0, 1, 0, 0, 0, 0, 0, 2, 1, 0, 0, 0, 0, 0, 0,\n       1, 1, 0, 0, 1, 3, 2, 0, 0, 1, 0, 0, 1, 0, 0, 0, 0, 0, 0, 0, 1, 2,\n       0, 0, 1, 0, 2, 1, 0, 0, 0, 0, 0, 0, 0, 0, 1, 0, 1, 1, 3, 0, 0, 0,\n       0, 0, 1, 0, 0, 0, 2, 1, 0, 1, 0, 2, 0, 1, 1, 1, 0, 2, 0, 0, 0, 0,\n       3, 1, 0, 0, 0, 0, 0, 1, 1, 0, 0, 0, 0, 0, 0, 1, 1, 1, 1, 0, 1, 0,\n       1, 2, 0, 0, 1, 0, 0, 1, 0, 1, 1, 1, 1, 0, 1, 1, 0, 0, 0, 0, 1, 0,\n       1, 0, 0, 0, 0, 0, 0, 0, 0, 1, 0, 0, 0, 1, 0, 1, 1, 2, 2, 1, 0, 2,\n       1, 0, 2, 1, 0, 2, 0, 1, 2, 2, 1, 0, 1, 0, 0, 1, 1, 1, 1, 0, 0, 0,\n       0, 0, 0, 1, 0, 0, 0, 0, 0, 1, 1, 0, 0, 0, 1, 2, 0, 0, 0, 1, 0, 1,\n       1, 2, 0, 0, 0, 1, 0, 1, 1, 0, 1, 0, 0, 2, 1, 0, 1, 0, 1, 1, 0, 1,\n       0, 0, 0, 1, 0, 1, 2, 1, 1, 1, 0, 1, 0, 0, 0, 1, 1, 0, 0, 0, 0, 1,\n       1, 3, 0, 0, 1, 2, 0, 0, 1, 0, 0, 0, 0, 1, 0, 0, 1, 0, 0, 0, 0, 1,\n       1, 0, 0, 0, 0, 0, 0, 0, 0, 1, 3, 1, 0, 1, 0, 3, 2, 0, 1, 3, 0, 1,\n       0, 0, 0, 2, 0, 1, 0, 0, 0, 0, 0, 0, 1, 3, 0, 0, 3, 0, 1, 0, 2, 2,\n       0, 0, 0, 0, 0, 0, 0, 1, 0, 0, 1, 0, 0, 3, 0, 1, 0, 1, 0, 3, 0, 1,\n       0, 0, 3, 0, 3, 0, 0, 1, 0, 0, 0, 1, 2, 0, 0, 0, 0, 0, 2, 0, 0, 0,\n       0, 3, 1, 0, 0, 0, 0, 0, 0, 3, 0, 0, 0, 0, 0, 2, 0, 1, 1, 0, 0, 0,\n       0, 1, 0, 0, 1, 0, 1, 0, 3, 1, 0, 0, 1, 1, 0, 0, 0, 0, 0, 0, 0, 1,\n       2, 2, 2, 0, 1, 1, 1, 3, 1, 0, 1, 0, 1, 0, 1, 3, 1, 0, 3, 1, 0, 1,\n       1, 3, 1, 0, 1, 0, 0, 0, 0, 1, 1, 0, 2, 0, 1, 3, 0, 1, 0, 0, 0, 1,\n       0, 0, 0], dtype=int64)"
     },
     "execution_count": 19,
     "metadata": {},
     "output_type": "execute_result"
    }
   ],
   "source": [
    "y_test.argmax(axis=1)\n",
    "\n"
   ],
   "metadata": {
    "collapsed": false,
    "pycharm": {
     "name": "#%%\n"
    }
   }
  }
 ],
 "metadata": {
  "kernelspec": {
   "display_name": "Python 3",
   "language": "python",
   "name": "python3"
  },
  "language_info": {
   "codemirror_mode": {
    "name": "ipython",
    "version": 3
   },
   "file_extension": ".py",
   "mimetype": "text/x-python",
   "name": "python",
   "nbconvert_exporter": "python",
   "pygments_lexer": "ipython3",
   "version": "3.8.8"
  }
 },
 "nbformat": 4,
 "nbformat_minor": 5
}